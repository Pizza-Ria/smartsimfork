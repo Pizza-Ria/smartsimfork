{
 "cells": [
  {
   "cell_type": "markdown",
   "id": "487eb264-3c79-434f-842f-a11a8601ae7b",
   "metadata": {},
   "source": [
    "# Online Inference\n",
    "\n",
    "This tutorial shows how to use trained PyTorch, TensorFlow, and ONNX (format) models, written in Python, directly in HPC workloads written in Fortran, C, C++ and Python.\n",
    "\n",
    "The example simulation here is written in Python for brevity, however, the inference API in SmartRedis is the same (besides extra parameters for compiled langauges) across all clients. \n"
   ]
  },
  {
   "cell_type": "markdown",
   "id": "f3604189-d438-4702-9aba-89161ebc4554",
   "metadata": {},
   "source": [
    "## Installing the ML backends\n",
    "\n",
    "In order to use the `Orchestrator` database as an inference engine, the Machine Learning (ML) backends need to be built and supplied to the database at runtime. \n",
    "\n",
    "To check which backends are built, a simple helper function is available in SmartSim as shown below."
   ]
  },
  {
   "cell_type": "code",
   "execution_count": null,
   "id": "bd289351-b2a7-45ae-a774-e54a94a80c65",
   "metadata": {},
   "outputs": [],
   "source": [
    "## Installing the ML backends\n",
    "from smartsim._core.utils.helpers import installed_redisai_backends\n",
    "print(installed_redisai_backends())"
   ]
  },
  {
   "cell_type": "markdown",
   "id": "e4b21b41-bd2d-412f-b8a7-8011b154d23b",
   "metadata": {},
   "source": [
    "For this tutorial, we have already built the pyTorch, Tensorflow, and ONNX backends. Users following the install directions, generally will have to install these backends on a user-by-user basis. For larger teams, CrayLabs will help setup your system so that the backends do not have to be built by each user."
   ]
  },
  {
   "cell_type": "markdown",
   "id": "7df6c3dd-6cc5-46e6-9c58-6ba2333d7045",
   "metadata": {},
   "source": [
    "## Starting the Database for Inference\n",
    "\n",
    "SmartSim performs online inference by using the SmartRedis clients to call into the\n",
    "Machine Learning (ML) runtimes linked into the Orchestrator database. The Orchestrator\n",
    "is the name in SmartSim for a Redis or KeyDB database with a RedisAI module built\n",
    "into it with the ML runtimes.\n",
    "\n",
    "Therefore, to perform inference, you must first create an Orchestrator database and\n",
    "launch it. There are two methods to couple the database to your application in\n",
    "order to add inference capability to your application.\n",
    " - standard (not co-located)\n",
    " - co-located\n",
    " \n",
    "`standard` mode launches an optionally clustered (across many compute hosts) database instance\n",
    "that can be treated as a single storage device for many clients (possibly the many ranks\n",
    "of an MPI program) where there is a single address space for keys across all hosts.\n",
    "\n",
    "`co-located` mode launches a orchestrator instance on each compute host used by a,\n",
    "possibly distributed, application. each instance contains their own address space\n",
    "for keys. In SmartSim, `Model` instances can be launched with a co-located orchetrator\n",
    "through `Model.colocate_db`. Co-located `Model`s are used for highly scalable\n",
    "inference where global aggregations aren't necessary for inference.\n",
    "\n",
    "The code below launches the `Orchestrator` database using the `standard` deployment\n",
    "method."
   ]
  },
  {
   "cell_type": "code",
   "execution_count": null,
   "id": "201b9c43-f3e9-476c-ac21-e45f2c621b00",
   "metadata": {},
   "outputs": [],
   "source": [
    "# some helper libraries for the tutorial\n",
    "import io\n",
    "import os\n",
    "os.environ['TF_CPP_MIN_LOG_LEVEL'] = '3'\n",
    "import logging\n",
    "import numpy as np\n",
    "\n",
    "# import smartsim and smartredis\n",
    "from smartredis import Client\n",
    "from smartsim import Experiment"
   ]
  },
  {
   "cell_type": "code",
   "execution_count": null,
   "id": "1df7ff13-e292-4c68-a99c-d0b5491be079",
   "metadata": {},
   "outputs": [],
   "source": [
    "exp = Experiment(\"Inference-Tutorial\", launcher=\"local\")"
   ]
  },
  {
   "cell_type": "code",
   "execution_count": null,
   "id": "7364dbdf-52bf-4107-be3a-78fb541449f8",
   "metadata": {},
   "outputs": [],
   "source": [
    "db = exp.create_database(port=6780, interface=\"lo\")\n",
    "exp.start(db)"
   ]
  },
  {
   "cell_type": "markdown",
   "id": "58615a9e-bb53-4025-90de-c1eee4e315eb",
   "metadata": {},
   "source": [
    "## Using PyTorch\n",
    "\n",
    "The Orchestrator supports both [PyTorch](https://pytorch.org/)\n",
    "models and [TorchScript](https://pytorch.org/docs/stable/jit.html) functions and scripts\n",
    "in PyTorch.\n",
    "\n",
    "Below, the code is shown to create, jit-trace (prepare for inference), set,\n",
    "and call a PyTorch Convolutional Neural Network (CNN) with SmartSim and SmartRedis"
   ]
  },
  {
   "cell_type": "code",
   "execution_count": null,
   "id": "dde172d9-4f18-4adc-8e78-fc6f71fb405c",
   "metadata": {},
   "outputs": [],
   "source": [
    "import torch\n",
    "import torch.nn as nn\n",
    "import torch.nn.functional as F\n",
    "\n",
    "\n",
    "class Net(nn.Module):\n",
    "    def __init__(self):\n",
    "        super(Net, self).__init__()\n",
    "        self.conv1 = nn.Conv2d(1, 32, 3, 1)\n",
    "        self.conv2 = nn.Conv2d(32, 64, 3, 1)\n",
    "        self.dropout1 = nn.Dropout(0.25)\n",
    "        self.dropout2 = nn.Dropout(0.5)\n",
    "        self.fc1 = nn.Linear(9216, 128)\n",
    "        self.fc2 = nn.Linear(128, 10)\n",
    "\n",
    "    def forward(self, x):\n",
    "        x = self.conv1(x)\n",
    "        x = F.relu(x)\n",
    "        x = self.conv2(x)\n",
    "        x = F.relu(x)\n",
    "        x = F.max_pool2d(x, 2)\n",
    "        x = self.dropout1(x)\n",
    "        x = torch.flatten(x, 1)\n",
    "        x = self.fc1(x)\n",
    "        x = F.relu(x)\n",
    "        x = self.dropout2(x)\n",
    "        x = self.fc2(x)\n",
    "        output = F.log_softmax(x, dim=1)\n",
    "        return output\n"
   ]
  },
  {
   "cell_type": "markdown",
   "id": "0ab54aba-f6d7-4ecb-907e-1efdba9657a9",
   "metadata": {},
   "source": [
    "To set a PyTorch model, we create a function to \"jit-trace\" the model\n",
    "and save it to a buffer in memory.\n",
    "\n",
    "If you aren't familiar with the concept of tracing, take a look at the\n",
    "Torch documentation for [trace](https://pytorch.org/docs/stable/generated/torch.jit.trace.html#torch.jit.trace)\n"
   ]
  },
  {
   "cell_type": "code",
   "execution_count": null,
   "id": "e5aa5995-d250-46c4-87f0-0115112560ae",
   "metadata": {},
   "outputs": [],
   "source": [
    "# Initialize an instance of our CNN model\n",
    "n = Net()\n",
    "n.eval()\n",
    "\n",
    "# prepare a sample input to trace on (random noise is fine)\n",
    "example_forward_input = torch.rand(1, 1, 28, 28)\n",
    "\n",
    "def create_torch_model(torch_module, example_forward_input):\n",
    "\n",
    "    # perform the trace of the nn.Module.forward() method\n",
    "    module = torch.jit.trace(torch_module, example_forward_input)\n",
    "\n",
    "    # save the traced module to a buffer\n",
    "    model_buffer = io.BytesIO()\n",
    "    torch.jit.save(module, model_buffer)\n",
    "    return model_buffer.getvalue()\n",
    "\n",
    "traced_cnn = create_torch_model(n, example_forward_input)"
   ]
  },
  {
   "cell_type": "markdown",
   "id": "209a8db0-249a-4345-b3de-9c309ae5ebe6",
   "metadata": {},
   "source": [
    "Lastly, we use the SmartRedis Python client to\n",
    "\n",
    "1. Connect to the database\n",
    "2. Put a batch of 20 tensors into the database  (``put_tensor``)\n",
    "3. Set the Torch model in the database (``set_model``)\n",
    "4. Run the model on the batch of tensors (``run_model``)\n",
    "5. Retrieve the result (``get_tensor``)\n"
   ]
  },
  {
   "cell_type": "code",
   "execution_count": null,
   "id": "9bdabc3d-31cc-47fc-853b-94fffaa2bf10",
   "metadata": {},
   "outputs": [],
   "source": [
    "client = Client(address=db.get_address()[0], cluster=False)\n",
    "\n",
    "client.put_tensor(\"input\", torch.rand(20, 1, 28, 28).numpy())\n",
    "\n",
    "# put the PyTorch CNN in the database in GPU memory\n",
    "client.set_model(\"cnn\", traced_cnn, \"TORCH\", device=\"CPU\")\n",
    "\n",
    "# execute the model, supports a variable number of inputs and outputs\n",
    "client.run_model(\"cnn\", inputs=[\"input\"], outputs=[\"output\"])\n",
    "\n",
    "# get the output\n",
    "output = client.get_tensor(\"output\")\n",
    "print(f\"Prediction: {output}\")\n"
   ]
  },
  {
   "cell_type": "markdown",
   "id": "37c6f801-deb5-463c-bfc7-565a79b8bcfb",
   "metadata": {},
   "source": [
    "As we gave the CNN random noise, the predictions reflect that.\n",
    "\n",
    "If running on CPU, be sure to change the argument in the ``set_model`` call\n",
    "above to ``CPU``."
   ]
  },
  {
   "cell_type": "markdown",
   "id": "638cdd2a-c0ad-4a54-a7ce-9eef0096da30",
   "metadata": {},
   "source": [
    "## Using TorchScript\n",
    "\n",
    "In addition to PyTorch models, TorchScript scripts and functions can be set in the\n",
    "Orchestrator database and called from any of the SmartRedis languages. Functions\n",
    "can be set in the database in Python prior to application launch and then used\n",
    "directly in Fortran, C, and C++ simulations.\n",
    "\n",
    "The example below uses the TorchScript Singular Value Decomposition (SVD) function.\n",
    "The function set in side the database and then called with a random input\n",
    "tensor.\n"
   ]
  },
  {
   "cell_type": "code",
   "execution_count": null,
   "id": "267405bf-3144-4219-a82b-15be10cf5125",
   "metadata": {},
   "outputs": [],
   "source": [
    "def calc_svd(input_tensor):\n",
    "    # svd function from TorchScript API\n",
    "    return input_tensor.svd()"
   ]
  },
  {
   "cell_type": "code",
   "execution_count": null,
   "id": "2e85ced9-e39a-4efb-91db-3919aa4e9489",
   "metadata": {},
   "outputs": [],
   "source": [
    "# connect a client to the database\n",
    "client = Client(address=db.get_address()[0], cluster=False)\n",
    "\n",
    "# test the SVD function\n",
    "tensor = np.random.randint(0, 100, size=(5, 3, 2)).astype(np.float32)\n",
    "client.put_tensor(\"input\", tensor)\n",
    "client.set_function(\"svd\", calc_svd)\n",
    "client.run_script(\"svd\", \"calc_svd\", [\"input\"], [\"U\", \"S\", \"V\"])\n",
    "U = client.get_tensor(\"U\")\n",
    "S = client.get_tensor(\"S\")\n",
    "V = client.get_tensor(\"V\")\n",
    "print(f\"U: {U}\\n\\n, S: {S}\\n\\n, V: {V}\\n\")\n"
   ]
  },
  {
   "cell_type": "code",
   "execution_count": null,
   "id": "55ae0408-7ddb-4a75-912f-7312ee43f79b",
   "metadata": {},
   "outputs": [],
   "source": [
    "## TensorFlow and Keras\n",
    "import tensorflow as tf\n",
    "from tensorflow import keras\n",
    "tf.get_logger().setLevel(logging.ERROR)\n",
    "\n",
    "# create a simple Fully connected network in Keras\n",
    "model = keras.Sequential(\n",
    "    layers=[\n",
    "        keras.layers.InputLayer(input_shape=(28, 28), name=\"input\"),\n",
    "        keras.layers.Flatten(input_shape=(28, 28), name=\"flatten\"),\n",
    "        keras.layers.Dense(128, activation=\"relu\", name=\"dense\"),\n",
    "        keras.layers.Dense(10, activation=\"softmax\", name=\"output\"),\n",
    "    ],\n",
    "    name=\"FCN\",\n",
    ")\n",
    "\n",
    "# Compile model with optimizer\n",
    "model.compile(optimizer=\"adam\",\n",
    "            loss=\"sparse_categorical_crossentropy\",\n",
    "            metrics=[\"accuracy\"])"
   ]
  },
  {
   "cell_type": "markdown",
   "id": "48b1efb6-4f39-4ad6-8a27-58648ec66bde",
   "metadata": {},
   "source": [
    "### Setting TensorFlow and Keras Models\n",
    "\n",
    "After a model is created (trained or not), the graph of the model is\n",
    "frozen and saved to file so the client method `client.set_model_from_file`\n",
    "can load it into the database.\n",
    "\n",
    "SmartSim includes a utility to freeze the graph of a TensorFlow or Keras model in\n",
    "`smartsim.ml.tf`. To use TensorFlow or Keras in SmartSim, specify\n",
    "`TF` as the argument for *backend* in the call to `client.set_model` or\n",
    "`client.set_model_from_file`.\n",
    "\n",
    "Note that TensorFlow and Keras, unlike the other ML libraries supported by\n",
    "SmartSim, requires an `input` and `output` argument in the call to\n",
    "`set_model`. These arguments correspond to the layer names of the\n",
    "created model. The `smartsim.ml.tf.freeze_model` utility\n",
    "returns these values for convenience as shown below."
   ]
  },
  {
   "cell_type": "code",
   "execution_count": null,
   "id": "400e2a53-74b2-4bf1-a0e8-32222fd968f4",
   "metadata": {},
   "outputs": [],
   "source": [
    "from smartsim.ml.tf import freeze_model\n",
    "\n",
    "# SmartSim utility for Freezing the model and saving it to a file.\n",
    "model_path, inputs, outputs = freeze_model(model, os.getcwd(), \"fcn.pb\")\n",
    "\n",
    "# use the same client we used for PyTorch to set the TensorFlow model\n",
    "# this time the method for setting a model from a saved file is shown. \n",
    "# TensorFlow backed requires named inputs and outputs on graph\n",
    "# this differs from PyTorch and ONNX.\n",
    "client.set_model_from_file(\n",
    "    \"keras_fcn\", model_path, \"TF\", device=\"CPU\", inputs=inputs, outputs=outputs\n",
    ")\n",
    "\n",
    "# put random random input tensor into the database\n",
    "input_data = np.random.rand(1, 28, 28).astype(np.float32)\n",
    "client.put_tensor(\"input\", input_data)\n",
    "\n",
    "# run the Fully Connected Network model on the tensor we just put\n",
    "# in and store the result of the inference at the \"output\" key\n",
    "client.run_model(\"keras_fcn\", \"input\", \"output\")\n",
    "\n",
    "# get the result of the inference\n",
    "pred = client.get_tensor(\"output\")\n",
    "print(pred)"
   ]
  },
  {
   "cell_type": "markdown",
   "id": "a23d248c-6280-44b0-88a7-2babbaed3f3f",
   "metadata": {},
   "source": [
    "## Using ONNX\n",
    "\n",
    "ONNX is a standard format for representing models. A number of different Machine Learning\n",
    "Libraries are supported by ONNX and can be readily used with SmartSim.\n",
    "\n",
    "Some popular ones are:\n",
    "\n",
    "\n",
    "- [Scikit-learn](https://scikit-learn.org)\n",
    "- [XGBoost](https://xgboost.readthedocs.io)\n",
    "- [CatBoost](https://catboost.ai)\n",
    "- [LightGBM](https://lightgbm.readthedocs.io/en/latest/)\n",
    "- [libsvm](https://www.csie.ntu.edu.tw/~cjlin/libsvm/)\n",
    "\n",
    "\n",
    "As well as some that are not listed. There are also many tools to help convert\n",
    "models to ONNX.\n",
    "\n",
    "- [onnxmltools](https://github.com/onnx/onnxmltools)\n",
    "- [skl2onnx](https://github.com/onnx/sklearn-onnx/)\n",
    "- [tensorflow-onnx](https://github.com/onnx/tensorflow-onnx/)\n",
    "\n",
    "\n",
    "And PyTorch has its own converter.\n",
    "\n",
    "Currently the ONNX backend only works on Linux, but MacOS support will be added in the future.\n",
    "\n",
    "Below are some examples of a few models in [Scikit-learn](https://scikit-learn.org)\n",
    "that are converted into ONNX format for use with SmartSim. To use ONNX in SmartSim, specify\n",
    "`ONNX` as the argument for *backend* in the call to `client.set_model` or\n",
    "`client.set_model_from_file`"
   ]
  },
  {
   "cell_type": "markdown",
   "id": "4bf422e5-bece-4402-a2ef-8bca1e009b5c",
   "metadata": {},
   "source": [
    "### Scikit-Learn K-means Cluster\n",
    "\n",
    "\n",
    "K-means clustering is an unsupervised ML algorithm. It is used to categorize data points\n",
    "into functional groups (\"clusters\"). Scikit Learn has a built in implementation of K-means clustering\n",
    "and it is easily converted to ONNX for use with SmartSim through \n",
    "[skl2onnx.to_onnx](http://onnx.ai/sklearn-onnx/auto_examples/plot_convert_syntax.html)\n",
    "\n",
    "Since the KMeans model returns two outputs, we provide the `client.run_model` call\n",
    "with two `output` key names.\n"
   ]
  },
  {
   "cell_type": "code",
   "execution_count": null,
   "id": "889328a7-2326-476f-a686-f34397f4a210",
   "metadata": {},
   "outputs": [],
   "source": [
    "from skl2onnx import to_onnx\n",
    "from sklearn.cluster import KMeans"
   ]
  },
  {
   "cell_type": "code",
   "execution_count": null,
   "id": "729486bb-ab34-44cb-a36f-7d26cbf6393a",
   "metadata": {},
   "outputs": [],
   "source": [
    "\n",
    "X = np.arange(20, dtype=np.float32).reshape(10, 2)\n",
    "tr = KMeans(n_clusters=2)\n",
    "tr.fit(X)\n",
    "\n",
    "# save the trained k-means model in memory with skl2onnx\n",
    "kmeans = to_onnx(tr, X, target_opset=11)\n",
    "model = kmeans.SerializeToString()\n",
    "\n",
    "# random input data\n",
    "sample = np.arange(20, dtype=np.float32).reshape(10, 2)\n",
    "\n",
    "# use the same client from TensorFlow and Pytorch examples.\n",
    "client.put_tensor(\"input\", sample)\n",
    "client.set_model(\"kmeans\", model, \"ONNX\", device=\"CPU\")\n",
    "client.run_model(\"kmeans\", inputs=\"input\", outputs=[\"labels\", \"transform\"])\n",
    "\n",
    "print(client.get_tensor(\"labels\"))\n"
   ]
  },
  {
   "cell_type": "markdown",
   "id": "7da6c43d-b1b2-46ae-89f8-cb7050d9592b",
   "metadata": {},
   "source": [
    "### Scikit-Learn Random Forest\n",
    "\n",
    "The Random Forest example uses the Iris dataset from Scikit Learn to train a\n",
    "RandomForestRegressor. As with the other examples, the skl2onnx function\n",
    "`skl2onnx.to_onnx` is used to convert the model to ONNX format.\n"
   ]
  },
  {
   "cell_type": "code",
   "execution_count": null,
   "id": "657b3e7b-067a-4053-92e6-60379e5a6807",
   "metadata": {},
   "outputs": [],
   "source": [
    "from sklearn.datasets import load_iris\n",
    "from sklearn.ensemble import RandomForestRegressor\n",
    "from sklearn.model_selection import train_test_split"
   ]
  },
  {
   "cell_type": "code",
   "execution_count": null,
   "id": "d73f0d5b-e6c2-42b1-8e21-3b6d064d20e4",
   "metadata": {},
   "outputs": [],
   "source": [
    "iris = load_iris()\n",
    "X, y = iris.data, iris.target\n",
    "X_train, X_test, y_train, _ = train_test_split(X, y, random_state=13)\n",
    "clr = RandomForestRegressor(n_jobs=1, n_estimators=100)\n",
    "clr.fit(X_train, y_train)\n",
    "\n",
    "rf_model = to_onnx(clr, X_test.astype(np.float32), target_opset=11)\n",
    "\n",
    "sample = np.array([[6.4, 2.8, 5.6, 2.2]]).astype(np.float32)\n",
    "model = rf_model.SerializeToString()\n",
    "\n",
    "client.put_tensor(\"input\", sample)\n",
    "client.set_model(\"rf_regressor\", model, \"ONNX\", device=\"CPU\")\n",
    "client.run_model(\"rf_regressor\", inputs=\"input\", outputs=\"output\")\n",
    "print(client.get_tensor(\"output\"))\n"
   ]
  },
  {
   "cell_type": "code",
   "execution_count": null,
   "id": "ea774e12-956c-4bbe-be57-af416123c307",
   "metadata": {},
   "outputs": [],
   "source": [
    "exp.stop(db)"
   ]
  },
  {
   "cell_type": "code",
   "execution_count": null,
   "id": "15662aeb-1b00-4887-9e47-2c596fdbe941",
   "metadata": {},
   "outputs": [],
   "source": [
    "exp.summary(format=\"html\")"
   ]
  }
 ],
 "metadata": {
  "kernelspec": {
   "display_name": "Python 3.9.5 64-bit",
   "language": "python",
   "name": "python3"
  },
  "language_info": {
   "codemirror_mode": {
    "name": "ipython",
    "version": 3
   },
   "file_extension": ".py",
   "mimetype": "text/x-python",
   "name": "python",
   "nbconvert_exporter": "python",
   "pygments_lexer": "ipython3",
   "version": "3.9.5"
  },
  "vscode": {
   "interpreter": {
    "hash": "aee8b7b246df8f9039afb4144a1f6fd8d2ca17a180786b69acc140d282b71a49"
   }
  }
 },
 "nbformat": 4,
 "nbformat_minor": 5
}
